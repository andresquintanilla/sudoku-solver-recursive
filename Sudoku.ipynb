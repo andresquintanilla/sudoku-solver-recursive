{
 "cells": [
  {
   "cell_type": "markdown",
   "metadata": {},
   "source": [
    "# Sudoku Solver - Recursive"
   ]
  },
  {
   "cell_type": "markdown",
   "metadata": {},
   "source": [
    "<br>"
   ]
  },
  {
   "cell_type": "markdown",
   "metadata": {},
   "source": [
    "The classic Sudoku game involves a grid of 81 squares. The grid is divided into nine blocks, each containing nine squares. The rules of the game are simple: each of the nine blocks has to contain all the numbers 1-9 within its squares. Each number can only appear once in a row, column or box.\n",
    "\n",
    "In this Jupyter Notebook, I'm going to use create some functions to solve a Suboku game recursively."
   ]
  },
  {
   "cell_type": "markdown",
   "metadata": {},
   "source": [
    "<br>"
   ]
  },
  {
   "cell_type": "markdown",
   "metadata": {},
   "source": [
    "1. [Define Functions](#functions)\n",
    "2. [Sudoku Solver](#solver)"
   ]
  },
  {
   "cell_type": "markdown",
   "metadata": {},
   "source": [
    "<br>"
   ]
  },
  {
   "cell_type": "markdown",
   "metadata": {},
   "source": [
    "## Define Functions <a class=\"anchor\" id=\"functions\"></a><br>"
   ]
  },
  {
   "cell_type": "code",
   "execution_count": 1,
   "metadata": {},
   "outputs": [],
   "source": [
    "# Load Python modules\n",
    "\n",
    "import numpy as np\n",
    "from IPython.core.display import display, HTML"
   ]
  },
  {
   "cell_type": "code",
   "execution_count": 2,
   "metadata": {},
   "outputs": [],
   "source": [
    "# The next function recieves the coordantes (x,y) of the grid and a number 'n' \n",
    "# and checks whether the number is a possible option for the particular square\n",
    "def possible(y,x,n) :\n",
    "    global grid\n",
    "    for i in range(9) :\n",
    "        if grid[y][i] == n :\n",
    "            return False\n",
    "    for i in range(9) :\n",
    "        if grid[i][x] == n :\n",
    "            return False\n",
    "    x0 = (x//3) * 3\n",
    "    y0 = (y//3) * 3\n",
    "    for i in range(3) :\n",
    "        for j in range(3) :\n",
    "            if grid[y0+i][x0+j] == n :\n",
    "                return False\n",
    "    return True"
   ]
  },
  {
   "cell_type": "code",
   "execution_count": 3,
   "metadata": {},
   "outputs": [],
   "source": [
    "# The next function is the main one, used to solve the puzzle by doing Recursive calls until a solution is reached\n",
    "def solve() :\n",
    "    global iteration, solution, grid\n",
    "    \n",
    "    iteration += 1\n",
    "    for y in range(9) :\n",
    "        for x in range(9) :\n",
    "            if grid[y][x] == 0 :\n",
    "                for n in range(1,10) :\n",
    "                    if possible(y,x,n) :\n",
    "                        grid[y][x] = n\n",
    "                        solve()\n",
    "                        grid[y][x] = 0\n",
    "                return\n",
    "    solution += 1\n",
    "    print(\"Solution # \", solution, \"| Iteration: \", iteration)\n",
    "    display_grid(grid)\n",
    "    #print(np.matrix(grid), '\\n')\n",
    "    iteration = 0"
   ]
  },
  {
   "cell_type": "code",
   "execution_count": 4,
   "metadata": {},
   "outputs": [],
   "source": [
    "# The next functions recieves a grid and builds an html table to display all values within the grid.\n",
    "def display_grid(grid):\n",
    "    table = \"<table style='border:3px solid; border-collapse:collapse; font-size:150%;'>\"\n",
    "    table_ = \"</table>\"\n",
    "    td = \"\"\n",
    "    \n",
    "    i=0\n",
    "    for row in grid:\n",
    "        if i%3==0:\n",
    "            table+=\"<tr style='border:1px solid; border-top:3px solid;'>\"\n",
    "        else:\n",
    "            table+=\"<tr>\"\n",
    "        j=0\n",
    "        for col in row:\n",
    "            if col==0:\n",
    "                col=\"\"\n",
    "            if j%3==0:\n",
    "                table+= \"<td bgcolor='white' style='height:50px; width:50px; text-align:center; border:1px solid; border-left:3px solid;'>%s</td>\"%col\n",
    "            else:\n",
    "                table+= \"<td bgcolor='white' style='height:50px; width:50px; text-align:center; border:1px solid;'>%s</td>\"%col\n",
    "            j+=1\n",
    "        table+=\"</tr>\"\n",
    "        i+=1\n",
    "    \n",
    "    display(HTML(table+table_))"
   ]
  },
  {
   "cell_type": "markdown",
   "metadata": {},
   "source": [
    "<br><br><br><br><br><br>"
   ]
  },
  {
   "cell_type": "markdown",
   "metadata": {},
   "source": [
    "## Sudoku Solver <a class=\"anchor\" id=\"solver\"></a><br>"
   ]
  },
  {
   "cell_type": "code",
   "execution_count": 5,
   "metadata": {
    "scrolled": false
   },
   "outputs": [],
   "source": [
    "grid = [[5,3,0,0,7,0,0,0,0],\n",
    "        [6,0,0,1,9,5,0,0,0],\n",
    "        [0,9,8,0,0,0,0,6,0],\n",
    "        [8,0,0,0,6,0,0,0,3],\n",
    "        [4,0,0,8,0,3,0,0,1],\n",
    "        [7,0,0,0,2,0,0,0,6],\n",
    "        [0,6,0,0,0,0,2,8,0],\n",
    "        [0,0,0,4,1,9,0,0,5],\n",
    "        [0,0,0,0,8,0,0,7,9]]\n",
    "\n",
    "#possible(4,4,5)"
   ]
  },
  {
   "cell_type": "code",
   "execution_count": 6,
   "metadata": {},
   "outputs": [
    {
     "data": {
      "text/html": [
       "<br><br><h2>Original Sudoku Puzzle Grid</h2><br><br>"
      ],
      "text/plain": [
       "<IPython.core.display.HTML object>"
      ]
     },
     "metadata": {},
     "output_type": "display_data"
    },
    {
     "data": {
      "text/html": [
       "<table style='border:3px solid; border-collapse:collapse; font-size:150%;'><tr style='border:1px solid; border-top:3px solid;'><td bgcolor='white' style='height:50px; width:50px; text-align:center; border:1px solid; border-left:3px solid;'>5</td><td bgcolor='white' style='height:50px; width:50px; text-align:center; border:1px solid;'>3</td><td bgcolor='white' style='height:50px; width:50px; text-align:center; border:1px solid;'></td><td bgcolor='white' style='height:50px; width:50px; text-align:center; border:1px solid; border-left:3px solid;'></td><td bgcolor='white' style='height:50px; width:50px; text-align:center; border:1px solid;'>7</td><td bgcolor='white' style='height:50px; width:50px; text-align:center; border:1px solid;'></td><td bgcolor='white' style='height:50px; width:50px; text-align:center; border:1px solid; border-left:3px solid;'></td><td bgcolor='white' style='height:50px; width:50px; text-align:center; border:1px solid;'></td><td bgcolor='white' style='height:50px; width:50px; text-align:center; border:1px solid;'></td></tr><tr><td bgcolor='white' style='height:50px; width:50px; text-align:center; border:1px solid; border-left:3px solid;'>6</td><td bgcolor='white' style='height:50px; width:50px; text-align:center; border:1px solid;'></td><td bgcolor='white' style='height:50px; width:50px; text-align:center; border:1px solid;'></td><td bgcolor='white' style='height:50px; width:50px; text-align:center; border:1px solid; border-left:3px solid;'>1</td><td bgcolor='white' style='height:50px; width:50px; text-align:center; border:1px solid;'>9</td><td bgcolor='white' style='height:50px; width:50px; text-align:center; border:1px solid;'>5</td><td bgcolor='white' style='height:50px; width:50px; text-align:center; border:1px solid; border-left:3px solid;'></td><td bgcolor='white' style='height:50px; width:50px; text-align:center; border:1px solid;'></td><td bgcolor='white' style='height:50px; width:50px; text-align:center; border:1px solid;'></td></tr><tr><td bgcolor='white' style='height:50px; width:50px; text-align:center; border:1px solid; border-left:3px solid;'></td><td bgcolor='white' style='height:50px; width:50px; text-align:center; border:1px solid;'>9</td><td bgcolor='white' style='height:50px; width:50px; text-align:center; border:1px solid;'>8</td><td bgcolor='white' style='height:50px; width:50px; text-align:center; border:1px solid; border-left:3px solid;'></td><td bgcolor='white' style='height:50px; width:50px; text-align:center; border:1px solid;'></td><td bgcolor='white' style='height:50px; width:50px; text-align:center; border:1px solid;'></td><td bgcolor='white' style='height:50px; width:50px; text-align:center; border:1px solid; border-left:3px solid;'></td><td bgcolor='white' style='height:50px; width:50px; text-align:center; border:1px solid;'>6</td><td bgcolor='white' style='height:50px; width:50px; text-align:center; border:1px solid;'></td></tr><tr style='border:1px solid; border-top:3px solid;'><td bgcolor='white' style='height:50px; width:50px; text-align:center; border:1px solid; border-left:3px solid;'>8</td><td bgcolor='white' style='height:50px; width:50px; text-align:center; border:1px solid;'></td><td bgcolor='white' style='height:50px; width:50px; text-align:center; border:1px solid;'></td><td bgcolor='white' style='height:50px; width:50px; text-align:center; border:1px solid; border-left:3px solid;'></td><td bgcolor='white' style='height:50px; width:50px; text-align:center; border:1px solid;'>6</td><td bgcolor='white' style='height:50px; width:50px; text-align:center; border:1px solid;'></td><td bgcolor='white' style='height:50px; width:50px; text-align:center; border:1px solid; border-left:3px solid;'></td><td bgcolor='white' style='height:50px; width:50px; text-align:center; border:1px solid;'></td><td bgcolor='white' style='height:50px; width:50px; text-align:center; border:1px solid;'>3</td></tr><tr><td bgcolor='white' style='height:50px; width:50px; text-align:center; border:1px solid; border-left:3px solid;'>4</td><td bgcolor='white' style='height:50px; width:50px; text-align:center; border:1px solid;'></td><td bgcolor='white' style='height:50px; width:50px; text-align:center; border:1px solid;'></td><td bgcolor='white' style='height:50px; width:50px; text-align:center; border:1px solid; border-left:3px solid;'>8</td><td bgcolor='white' style='height:50px; width:50px; text-align:center; border:1px solid;'></td><td bgcolor='white' style='height:50px; width:50px; text-align:center; border:1px solid;'>3</td><td bgcolor='white' style='height:50px; width:50px; text-align:center; border:1px solid; border-left:3px solid;'></td><td bgcolor='white' style='height:50px; width:50px; text-align:center; border:1px solid;'></td><td bgcolor='white' style='height:50px; width:50px; text-align:center; border:1px solid;'>1</td></tr><tr><td bgcolor='white' style='height:50px; width:50px; text-align:center; border:1px solid; border-left:3px solid;'>7</td><td bgcolor='white' style='height:50px; width:50px; text-align:center; border:1px solid;'></td><td bgcolor='white' style='height:50px; width:50px; text-align:center; border:1px solid;'></td><td bgcolor='white' style='height:50px; width:50px; text-align:center; border:1px solid; border-left:3px solid;'></td><td bgcolor='white' style='height:50px; width:50px; text-align:center; border:1px solid;'>2</td><td bgcolor='white' style='height:50px; width:50px; text-align:center; border:1px solid;'></td><td bgcolor='white' style='height:50px; width:50px; text-align:center; border:1px solid; border-left:3px solid;'></td><td bgcolor='white' style='height:50px; width:50px; text-align:center; border:1px solid;'></td><td bgcolor='white' style='height:50px; width:50px; text-align:center; border:1px solid;'>6</td></tr><tr style='border:1px solid; border-top:3px solid;'><td bgcolor='white' style='height:50px; width:50px; text-align:center; border:1px solid; border-left:3px solid;'></td><td bgcolor='white' style='height:50px; width:50px; text-align:center; border:1px solid;'>6</td><td bgcolor='white' style='height:50px; width:50px; text-align:center; border:1px solid;'></td><td bgcolor='white' style='height:50px; width:50px; text-align:center; border:1px solid; border-left:3px solid;'></td><td bgcolor='white' style='height:50px; width:50px; text-align:center; border:1px solid;'></td><td bgcolor='white' style='height:50px; width:50px; text-align:center; border:1px solid;'></td><td bgcolor='white' style='height:50px; width:50px; text-align:center; border:1px solid; border-left:3px solid;'>2</td><td bgcolor='white' style='height:50px; width:50px; text-align:center; border:1px solid;'>8</td><td bgcolor='white' style='height:50px; width:50px; text-align:center; border:1px solid;'></td></tr><tr><td bgcolor='white' style='height:50px; width:50px; text-align:center; border:1px solid; border-left:3px solid;'></td><td bgcolor='white' style='height:50px; width:50px; text-align:center; border:1px solid;'></td><td bgcolor='white' style='height:50px; width:50px; text-align:center; border:1px solid;'></td><td bgcolor='white' style='height:50px; width:50px; text-align:center; border:1px solid; border-left:3px solid;'>4</td><td bgcolor='white' style='height:50px; width:50px; text-align:center; border:1px solid;'>1</td><td bgcolor='white' style='height:50px; width:50px; text-align:center; border:1px solid;'>9</td><td bgcolor='white' style='height:50px; width:50px; text-align:center; border:1px solid; border-left:3px solid;'></td><td bgcolor='white' style='height:50px; width:50px; text-align:center; border:1px solid;'></td><td bgcolor='white' style='height:50px; width:50px; text-align:center; border:1px solid;'>5</td></tr><tr><td bgcolor='white' style='height:50px; width:50px; text-align:center; border:1px solid; border-left:3px solid;'></td><td bgcolor='white' style='height:50px; width:50px; text-align:center; border:1px solid;'></td><td bgcolor='white' style='height:50px; width:50px; text-align:center; border:1px solid;'></td><td bgcolor='white' style='height:50px; width:50px; text-align:center; border:1px solid; border-left:3px solid;'></td><td bgcolor='white' style='height:50px; width:50px; text-align:center; border:1px solid;'>8</td><td bgcolor='white' style='height:50px; width:50px; text-align:center; border:1px solid;'></td><td bgcolor='white' style='height:50px; width:50px; text-align:center; border:1px solid; border-left:3px solid;'></td><td bgcolor='white' style='height:50px; width:50px; text-align:center; border:1px solid;'>7</td><td bgcolor='white' style='height:50px; width:50px; text-align:center; border:1px solid;'>9</td></tr></table>"
      ],
      "text/plain": [
       "<IPython.core.display.HTML object>"
      ]
     },
     "metadata": {},
     "output_type": "display_data"
    },
    {
     "data": {
      "text/html": [
       "<br><br><h2>Solved Sudoku Puzzle Grid</h2><br><br>"
      ],
      "text/plain": [
       "<IPython.core.display.HTML object>"
      ]
     },
     "metadata": {},
     "output_type": "display_data"
    },
    {
     "name": "stdout",
     "output_type": "stream",
     "text": [
      "Solution #  1 | Iteration:  4209\n"
     ]
    },
    {
     "data": {
      "text/html": [
       "<table style='border:3px solid; border-collapse:collapse; font-size:150%;'><tr style='border:1px solid; border-top:3px solid;'><td bgcolor='white' style='height:50px; width:50px; text-align:center; border:1px solid; border-left:3px solid;'>5</td><td bgcolor='white' style='height:50px; width:50px; text-align:center; border:1px solid;'>3</td><td bgcolor='white' style='height:50px; width:50px; text-align:center; border:1px solid;'>4</td><td bgcolor='white' style='height:50px; width:50px; text-align:center; border:1px solid; border-left:3px solid;'>6</td><td bgcolor='white' style='height:50px; width:50px; text-align:center; border:1px solid;'>7</td><td bgcolor='white' style='height:50px; width:50px; text-align:center; border:1px solid;'>8</td><td bgcolor='white' style='height:50px; width:50px; text-align:center; border:1px solid; border-left:3px solid;'>9</td><td bgcolor='white' style='height:50px; width:50px; text-align:center; border:1px solid;'>1</td><td bgcolor='white' style='height:50px; width:50px; text-align:center; border:1px solid;'>2</td></tr><tr><td bgcolor='white' style='height:50px; width:50px; text-align:center; border:1px solid; border-left:3px solid;'>6</td><td bgcolor='white' style='height:50px; width:50px; text-align:center; border:1px solid;'>7</td><td bgcolor='white' style='height:50px; width:50px; text-align:center; border:1px solid;'>2</td><td bgcolor='white' style='height:50px; width:50px; text-align:center; border:1px solid; border-left:3px solid;'>1</td><td bgcolor='white' style='height:50px; width:50px; text-align:center; border:1px solid;'>9</td><td bgcolor='white' style='height:50px; width:50px; text-align:center; border:1px solid;'>5</td><td bgcolor='white' style='height:50px; width:50px; text-align:center; border:1px solid; border-left:3px solid;'>3</td><td bgcolor='white' style='height:50px; width:50px; text-align:center; border:1px solid;'>4</td><td bgcolor='white' style='height:50px; width:50px; text-align:center; border:1px solid;'>8</td></tr><tr><td bgcolor='white' style='height:50px; width:50px; text-align:center; border:1px solid; border-left:3px solid;'>1</td><td bgcolor='white' style='height:50px; width:50px; text-align:center; border:1px solid;'>9</td><td bgcolor='white' style='height:50px; width:50px; text-align:center; border:1px solid;'>8</td><td bgcolor='white' style='height:50px; width:50px; text-align:center; border:1px solid; border-left:3px solid;'>3</td><td bgcolor='white' style='height:50px; width:50px; text-align:center; border:1px solid;'>4</td><td bgcolor='white' style='height:50px; width:50px; text-align:center; border:1px solid;'>2</td><td bgcolor='white' style='height:50px; width:50px; text-align:center; border:1px solid; border-left:3px solid;'>5</td><td bgcolor='white' style='height:50px; width:50px; text-align:center; border:1px solid;'>6</td><td bgcolor='white' style='height:50px; width:50px; text-align:center; border:1px solid;'>7</td></tr><tr style='border:1px solid; border-top:3px solid;'><td bgcolor='white' style='height:50px; width:50px; text-align:center; border:1px solid; border-left:3px solid;'>8</td><td bgcolor='white' style='height:50px; width:50px; text-align:center; border:1px solid;'>5</td><td bgcolor='white' style='height:50px; width:50px; text-align:center; border:1px solid;'>9</td><td bgcolor='white' style='height:50px; width:50px; text-align:center; border:1px solid; border-left:3px solid;'>7</td><td bgcolor='white' style='height:50px; width:50px; text-align:center; border:1px solid;'>6</td><td bgcolor='white' style='height:50px; width:50px; text-align:center; border:1px solid;'>1</td><td bgcolor='white' style='height:50px; width:50px; text-align:center; border:1px solid; border-left:3px solid;'>4</td><td bgcolor='white' style='height:50px; width:50px; text-align:center; border:1px solid;'>2</td><td bgcolor='white' style='height:50px; width:50px; text-align:center; border:1px solid;'>3</td></tr><tr><td bgcolor='white' style='height:50px; width:50px; text-align:center; border:1px solid; border-left:3px solid;'>4</td><td bgcolor='white' style='height:50px; width:50px; text-align:center; border:1px solid;'>2</td><td bgcolor='white' style='height:50px; width:50px; text-align:center; border:1px solid;'>6</td><td bgcolor='white' style='height:50px; width:50px; text-align:center; border:1px solid; border-left:3px solid;'>8</td><td bgcolor='white' style='height:50px; width:50px; text-align:center; border:1px solid;'>5</td><td bgcolor='white' style='height:50px; width:50px; text-align:center; border:1px solid;'>3</td><td bgcolor='white' style='height:50px; width:50px; text-align:center; border:1px solid; border-left:3px solid;'>7</td><td bgcolor='white' style='height:50px; width:50px; text-align:center; border:1px solid;'>9</td><td bgcolor='white' style='height:50px; width:50px; text-align:center; border:1px solid;'>1</td></tr><tr><td bgcolor='white' style='height:50px; width:50px; text-align:center; border:1px solid; border-left:3px solid;'>7</td><td bgcolor='white' style='height:50px; width:50px; text-align:center; border:1px solid;'>1</td><td bgcolor='white' style='height:50px; width:50px; text-align:center; border:1px solid;'>3</td><td bgcolor='white' style='height:50px; width:50px; text-align:center; border:1px solid; border-left:3px solid;'>9</td><td bgcolor='white' style='height:50px; width:50px; text-align:center; border:1px solid;'>2</td><td bgcolor='white' style='height:50px; width:50px; text-align:center; border:1px solid;'>4</td><td bgcolor='white' style='height:50px; width:50px; text-align:center; border:1px solid; border-left:3px solid;'>8</td><td bgcolor='white' style='height:50px; width:50px; text-align:center; border:1px solid;'>5</td><td bgcolor='white' style='height:50px; width:50px; text-align:center; border:1px solid;'>6</td></tr><tr style='border:1px solid; border-top:3px solid;'><td bgcolor='white' style='height:50px; width:50px; text-align:center; border:1px solid; border-left:3px solid;'>9</td><td bgcolor='white' style='height:50px; width:50px; text-align:center; border:1px solid;'>6</td><td bgcolor='white' style='height:50px; width:50px; text-align:center; border:1px solid;'>1</td><td bgcolor='white' style='height:50px; width:50px; text-align:center; border:1px solid; border-left:3px solid;'>5</td><td bgcolor='white' style='height:50px; width:50px; text-align:center; border:1px solid;'>3</td><td bgcolor='white' style='height:50px; width:50px; text-align:center; border:1px solid;'>7</td><td bgcolor='white' style='height:50px; width:50px; text-align:center; border:1px solid; border-left:3px solid;'>2</td><td bgcolor='white' style='height:50px; width:50px; text-align:center; border:1px solid;'>8</td><td bgcolor='white' style='height:50px; width:50px; text-align:center; border:1px solid;'>4</td></tr><tr><td bgcolor='white' style='height:50px; width:50px; text-align:center; border:1px solid; border-left:3px solid;'>2</td><td bgcolor='white' style='height:50px; width:50px; text-align:center; border:1px solid;'>8</td><td bgcolor='white' style='height:50px; width:50px; text-align:center; border:1px solid;'>7</td><td bgcolor='white' style='height:50px; width:50px; text-align:center; border:1px solid; border-left:3px solid;'>4</td><td bgcolor='white' style='height:50px; width:50px; text-align:center; border:1px solid;'>1</td><td bgcolor='white' style='height:50px; width:50px; text-align:center; border:1px solid;'>9</td><td bgcolor='white' style='height:50px; width:50px; text-align:center; border:1px solid; border-left:3px solid;'>6</td><td bgcolor='white' style='height:50px; width:50px; text-align:center; border:1px solid;'>3</td><td bgcolor='white' style='height:50px; width:50px; text-align:center; border:1px solid;'>5</td></tr><tr><td bgcolor='white' style='height:50px; width:50px; text-align:center; border:1px solid; border-left:3px solid;'>3</td><td bgcolor='white' style='height:50px; width:50px; text-align:center; border:1px solid;'>4</td><td bgcolor='white' style='height:50px; width:50px; text-align:center; border:1px solid;'>5</td><td bgcolor='white' style='height:50px; width:50px; text-align:center; border:1px solid; border-left:3px solid;'>2</td><td bgcolor='white' style='height:50px; width:50px; text-align:center; border:1px solid;'>8</td><td bgcolor='white' style='height:50px; width:50px; text-align:center; border:1px solid;'>6</td><td bgcolor='white' style='height:50px; width:50px; text-align:center; border:1px solid; border-left:3px solid;'>1</td><td bgcolor='white' style='height:50px; width:50px; text-align:center; border:1px solid;'>7</td><td bgcolor='white' style='height:50px; width:50px; text-align:center; border:1px solid;'>9</td></tr></table>"
      ],
      "text/plain": [
       "<IPython.core.display.HTML object>"
      ]
     },
     "metadata": {},
     "output_type": "display_data"
    }
   ],
   "source": [
    "display(HTML('<br><br><h2>Original Sudoku Puzzle Grid</h2><br><br>'))\n",
    "display_grid(grid)\n",
    "display(HTML('<br><br><h2>Solved Sudoku Puzzle Grid</h2><br><br>'))\n",
    "iteration = 0\n",
    "solution = 0\n",
    "solve()"
   ]
  },
  {
   "cell_type": "markdown",
   "metadata": {},
   "source": [
    "<br><br><br><br><br><br><br><br><br><br><br><br><br><br><br><br><br><br><br><br><br><br><br><br><br><br><br><br><br><br><br>"
   ]
  }
 ],
 "metadata": {
  "kernelspec": {
   "display_name": "Python 3",
   "language": "python",
   "name": "python3"
  },
  "language_info": {
   "codemirror_mode": {
    "name": "ipython",
    "version": 3
   },
   "file_extension": ".py",
   "mimetype": "text/x-python",
   "name": "python",
   "nbconvert_exporter": "python",
   "pygments_lexer": "ipython3",
   "version": "3.7.3"
  }
 },
 "nbformat": 4,
 "nbformat_minor": 2
}
